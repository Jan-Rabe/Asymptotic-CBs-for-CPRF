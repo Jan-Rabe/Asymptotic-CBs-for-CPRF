{
 "cells": [
  {
   "cell_type": "markdown",
   "id": "d1639b0a-e7fa-48ae-ac6c-78019a0da82d",
   "metadata": {},
   "source": [
    "# Notebook for Testing different confidence bands\n",
    "The code below is used to approximate the quantiles"
   ]
  },
  {
   "cell_type": "code",
   "execution_count": 1,
   "id": "dc099457-fcdd-464f-b84c-8e793711ceb8",
   "metadata": {},
   "outputs": [],
   "source": [
    "import numpy as np\n",
    "import math\n",
    "import sys\n",
    "import os\n",
    "import itertools\n",
    "import time\n",
    "from tqdm import tqdm\n",
    "from joblib import Parallel, delayed\n",
    "from IPython.display import display, HTML\n",
    "from scipy import stats\n",
    "from scipy.sparse import csr_matrix\n",
    "from scipy import special\n",
    "from numpy.linalg import cholesky\n",
    "import matplotlib.pyplot as plt\n",
    "from scipy.sparse import csc_matrix\n",
    "from scipy.sparse.linalg import splu\n",
    "src_path = os.path.abspath(os.path.join(os.getcwd(), \"../src\"))\n",
    "sys.path.append(src_path)\n",
    "from forest_v2 import RegressionTreeModel\n",
    "from forest_v2 import RandomForestModel\n",
    "import functions as fcts"
   ]
  },
  {
   "cell_type": "markdown",
   "id": "1eb87079-7666-448e-a8fc-7ed477192bc2",
   "metadata": {},
   "source": [
    "# Bootstrap CB Test mit gaussian multiplier"
   ]
  },
  {
   "cell_type": "code",
   "execution_count": 3,
   "id": "5b0578d5-42f0-4b71-bf54-5d16c12a3b27",
   "metadata": {},
   "outputs": [],
   "source": [
    "# dimension of the feature space\n",
    "p = 2\n",
    "\n",
    "#regression function\n",
    "regression_fct=fcts.m_p2_01\n",
    "\n",
    "# depth of the trees\n",
    "k = 5 #5,6\n",
    "\n",
    "# smaller k for evaluation grid (choice justified later)\n",
    "k2=4 # sufficient (shown in other notebook)\n",
    "\n",
    "#Ehrenfest parameters\n",
    "B = 12\n",
    "delta = 7\n",
    "\n",
    "# sample size\n",
    "n_samples = 250\n",
    "#subsample factor\n",
    "r = 0.75\n",
    "\n",
    "#confidence levels\n",
    "beta=np.array([0.1,0.05,0.01])\n",
    "np.set_printoptions(suppress=True)"
   ]
  },
  {
   "cell_type": "code",
   "execution_count": 4,
   "id": "9f412db0-f8d9-4acc-921f-6892ed8b78d8",
   "metadata": {},
   "outputs": [
    {
     "name": "stdout",
     "output_type": "stream",
     "text": [
      "The file 'Bootstrap results.txt' already existed.\n"
     ]
    }
   ],
   "source": [
    "# if necessary create a text file for the results of the simulations\n",
    "if not os.path.isfile('Bootstrap results.txt'):\n",
    "    with open('Bootstrap results.txt', 'w') as f:\n",
    "        f.write( \"Simulation results of b confidence bands\"+ '\\n')\n",
    "    print(\"The file 'Bootstrap results.txt' was created.\")\n",
    "else:\n",
    "    print(\"The file 'Bootstrap results.txt' already existed.\")"
   ]
  },
  {
   "cell_type": "code",
   "execution_count": 5,
   "id": "296c21ac-d2d6-48d4-b8ca-d0b0285d2a22",
   "metadata": {},
   "outputs": [],
   "source": [
    "#grid for supremum calculation\n",
    "eps=1/2**20\n",
    "g=2**k2\n",
    "splits=np.linspace(0, 1, num=g, endpoint=False)\n",
    "xl=splits+eps\n",
    "xr=splits+1/g-eps\n",
    "axis_grid=np.sort(np.concatenate((xl,xr)))\n",
    "prod=list(itertools.product(axis_grid, repeat=p))\n",
    "grid=np.array(prod)"
   ]
  },
  {
   "cell_type": "code",
   "execution_count": 7,
   "id": "f262d96d-57f1-4592-b4ac-8efd19eb9334",
   "metadata": {},
   "outputs": [],
   "source": [
    "def bootstrap_run(j):\n",
    "    boot_rng = np.random.default_rng([rand_seed,i,j])\n",
    "    \n",
    "    X_B = boot_rng.random(n_samples*p).reshape(n_samples,p)\n",
    "    e_hat = boot_rng.choice(residuals, size=n_samples, replace=True)*boot_rng.normal(0,1,n_samples)\n",
    "\n",
    "    model_boot = RandomForestModel(n_trees=n_trees, max_depth=k,sample_size_fct=r,tree_type=rf_type,delta=delta,B=B)\n",
    "    \n",
    "    model_boot.train(X_B,e_hat)# randomness from numpy random seed\n",
    "    \n",
    "    boot_pred_grid = model_boot.predict(X_test)\n",
    "    B_sup = np.max(np.abs(boot_pred_grid))\n",
    "    return B_sup"
   ]
  },
  {
   "cell_type": "code",
   "execution_count": 10,
   "id": "51effd8c-13b6-47c0-b6ea-bfaa66713e41",
   "metadata": {
    "scrolled": true
   },
   "outputs": [
    {
     "name": "stdout",
     "output_type": "stream",
     "text": [
      "Simulation progress for RF type Uni and error distribution td6 with sigma = 1  and n_trees = 50 :\n"
     ]
    },
    {
     "name": "stderr",
     "output_type": "stream",
     "text": [
      "100%|████████████████████████████████████████████████████████████████████████████| 1000/1000 [5:48:24<00:00, 20.90s/it]\n"
     ]
    },
    {
     "name": "stdout",
     "output_type": "stream",
     "text": [
      "Simulation for Uni-RF with distribution td6 with sigma = 1  and n_trees = 50  complete.\n",
      "Simulation progress for RF type Ehr and error distribution td6 with sigma = 1  and n_trees = 50 :\n"
     ]
    },
    {
     "name": "stderr",
     "output_type": "stream",
     "text": [
      "100%|████████████████████████████████████████████████████████████████████████████| 1000/1000 [6:59:39<00:00, 25.18s/it]"
     ]
    },
    {
     "name": "stdout",
     "output_type": "stream",
     "text": [
      "Simulation for Ehr-RF with distribution td6 with sigma = 1  and n_trees = 50  complete.\n"
     ]
    },
    {
     "name": "stderr",
     "output_type": "stream",
     "text": [
      "\n"
     ]
    }
   ],
   "source": [
    "# parameters to vary:\n",
    "\n",
    "# number of cpus used\n",
    "n_cpus=2\n",
    "\n",
    "# number of confidence bands\n",
    "n_tests=1000\n",
    "\n",
    "#number of bootstrap samples\n",
    "n_boot=100\n",
    "\n",
    "#random seed for both data and tree construction (two generators for replicable results)\n",
    "rand_seed=123456\n",
    "\n",
    "# vector of error std, used: [0.75,1,1.25]\n",
    "sigs=[1]#[0.75,1,1.25]\n",
    "\n",
    "#vector of error distributions, possible entries: 'norm', 'uni, 'tdx' where x is a place holder for the degrees of freedom\n",
    "distributions=['td6']#,['norm','uni','td4','td6'] \n",
    "\n",
    "# vector with number of trees\n",
    "n_trees_vec=[50]#,100] \n",
    "\n",
    "#multiplier to in/exclude the regression function\n",
    "# 1 for the normal regression model, 0 to set m=0 to test the asymptotic distribution without approximation error\n",
    "m_factor=1\n",
    "\n",
    "rf_types=['Uni','Ehr']#,'Ehr']#,'Ehr']\n",
    "\n",
    "#_____________________________________________________________________________________________________\n",
    "\n",
    "X_test=grid \n",
    "m_true_grid=m_factor*regression_fct(X_test)\n",
    "\n",
    "for sigma in sigs:\n",
    "    for dist_name in distributions:\n",
    "        if dist_name == \"norm\":\n",
    "            error_dist=stats.norm(loc=0, scale=sigma)\n",
    "        elif dist_name == \"uni\":\n",
    "            error_dist=stats.uniform(loc=-0.5*sigma*np.sqrt(12), scale=sigma*np.sqrt(12))\n",
    "        elif dist_name[:2]==\"td\":\n",
    "            try:\n",
    "                df=int(dist_name[2:len(dist_name)])\n",
    "            except Exception as e:\n",
    "                print(f\"An error occured: {e}.\", \"Distribution not known. Skipped to next distribution.\")\n",
    "                continue\n",
    "            error_dist=stats.t(df=df,loc=0,scale = sigma* np.sqrt((df-2)/df))\n",
    "        else:\n",
    "            print(\"Distribution not known. Skipped to next distribution.\")\n",
    "            continue\n",
    "        \n",
    "        for n_trees in n_trees_vec:\n",
    "\n",
    "            for rf_type in rf_types:     \n",
    "                \n",
    "                if rf_type=='Uni': \n",
    "                    model = RandomForestModel(n_trees=n_trees, max_depth=k,sample_size_fct=r,tree_type=\"Uni\")\n",
    "                elif rf_type=='Ehr':\n",
    "                    model = RandomForestModel(n_trees=n_trees, max_depth=k,sample_size_fct=r,tree_type=\"Ehr\",delta=delta,B=B)\n",
    "                else:\n",
    "                    print(\"Forest type not known. Skipped to next one.\")\n",
    "                    continue\n",
    "\n",
    "                sups=[]\n",
    "                quants=np.empty((0,len(beta)))\n",
    "\n",
    "                np.random.seed(rand_seed) \n",
    "                data_rng = np.random.default_rng(rand_seed)\n",
    "\n",
    "                print(\"Simulation progress for RF type \"+rf_type +\" and error distribution \"+dist_name+\" with sigma =\",sigma,\" and n_trees =\",n_trees, \":\")\n",
    "                \n",
    "                for i in tqdm(range(n_tests)):\n",
    "                    #data from a different random generator than the one used for the random forests\n",
    "                    e = error_dist.rvs(size=n_samples,random_state=data_rng)\n",
    "                    X = data_rng.random(n_samples*p).reshape(n_samples,p)\n",
    "                    m = m_factor*regression_fct(X)\n",
    "                    Y=m+e\n",
    "                    \n",
    "                    model.clear()\n",
    "                    model.train(X,Y) #randomness from default numpy generator\n",
    "\n",
    "                    X_preds = model.predict(X)\n",
    "                    residuals = Y-X_preds\n",
    "                    \n",
    "                    m_hat_grid = model.predict(X_test)\n",
    "                    sup=np.max(abs(m_true_grid-m_hat_grid))\n",
    "                    sups.append(sup)\n",
    "\n",
    "                    B_sups = Parallel(n_jobs=n_cpus)(\n",
    "                        delayed(bootstrap_run)(j)\n",
    "                        for j in range(n_boot)\n",
    "                    )\n",
    "                    \n",
    "                    quants=np.append(quants,np.quantile(B_sups,1-beta).reshape((1,3)),axis=0)\n",
    "\n",
    "                n_CB=len(sups)\n",
    "                cover_num=np.sum(np.array(sups).reshape((n_CB,1))<quants,axis=0)             \n",
    "\n",
    "                avg_cb_rad=np.mean(quants, axis=0)\n",
    "\n",
    "                if m_factor==1:\n",
    "                    m_info = \" and m = \"+regression_fct.__name__\n",
    "                elif m_factor ==0:\n",
    "                    m_info = \" and m set to zero.\"\n",
    "                else:\n",
    "                    m_info = \" and m = \"+str(m_factor)+\"*\"+regression_fct.__name__\n",
    "                \n",
    "                result_txt = [\"\",\"\",\"Results  at \"+time.ctime(),\n",
    "                              \"for Random Seed = \"+str(rand_seed),\n",
    "                              \"and Regression model with:\",\n",
    "                              \"p = \"+str(p)+m_info,\n",
    "                              \"RF type:\"+rf_type,\n",
    "                              \"Parameters:\",\n",
    "                              \"Sample size: \"+str(n_samples),\n",
    "                              \"k=\"+str(k),\n",
    "                              \"r=\"+str(r*n_samples)]\n",
    "                if error_dist.dist.name == 't':\n",
    "                    result_txt.append(\"Error distribution: t-Distribution with \"+str(df)+\" degrees of freedom\")\n",
    "                else:\n",
    "                    result_txt.append(\"Error distribution: \" +str(error_dist.dist.name))\n",
    "                \n",
    "                result_txt.append(\"Error std: \"+str(sigma))\n",
    "                result_txt.append(\"Number of trees: \"+str(n_trees))\n",
    "                result_txt.append(\"Number of CBS: \"+str(n_CB))\n",
    "                result_txt+=[\"\",\"Empirical Coverage for confidence bands with theoretical coverage \"+ str(1-beta)+\":\"]\n",
    "                result_txt.append(\"Number: \"+str(cover_num)+\", percentage: \"+ str(cover_num/n_CB))\n",
    "                result_txt+=[\"\",\"Average confidence band radius for theoretical coverage \"+ str(1-beta)+\":\"]\n",
    "                result_txt.append(str(avg_cb_rad))\n",
    "                                \n",
    "                # save results of combination in txt file\n",
    "                with open('Bootstrap results.txt', 'a') as f:\n",
    "                    for line in result_txt:\n",
    "                        f.write(line + '\\n')\n",
    "                \n",
    "                print(\"Simulation for \"+rf_type+\"-RF with distribution \"+dist_name+\" with sigma =\",sigma,\" and n_trees =\",n_trees, \" complete.\")"
   ]
  }
 ],
 "metadata": {
  "kernelspec": {
   "display_name": "Python 3 (ipykernel)",
   "language": "python",
   "name": "python3"
  },
  "language_info": {
   "codemirror_mode": {
    "name": "ipython",
    "version": 3
   },
   "file_extension": ".py",
   "mimetype": "text/x-python",
   "name": "python",
   "nbconvert_exporter": "python",
   "pygments_lexer": "ipython3",
   "version": "3.12.4"
  }
 },
 "nbformat": 4,
 "nbformat_minor": 5
}
